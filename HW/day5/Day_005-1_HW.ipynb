{
 "cells": [
  {
   "cell_type": "markdown",
   "source": [
    "# [作業目標]\n",
    "- 利用範例的創建方式, 創建一組資料, 並練習如何取出最大值"
   ],
   "metadata": {}
  },
  {
   "cell_type": "markdown",
   "source": [
    "# [作業重點]\n",
    "- 練習創立 DataFrame (In[2])\n",
    "- 如何取出口數最多的國家 (In[3], Out[3])"
   ],
   "metadata": {}
  },
  {
   "cell_type": "markdown",
   "source": [
    "## 練習時間\n",
    "在小量的資料上，我們用眼睛就可以看得出來程式碼是否有跑出我們理想中的結果\n",
    "\n",
    "請嘗試想像一個你需要的資料結構 (裡面的值可以是隨機的)，然後用上述的方法把它變成 pandas DataFrame\n",
    "\n",
    "#### Ex: 想像一個 dataframe 有兩個欄位，一個是國家，一個是人口，求人口數最多的國家\n",
    "\n",
    "### Hints: [隨機產生數值](https://blog.csdn.net/christianashannon/article/details/78867204)"
   ],
   "metadata": {}
  },
  {
   "cell_type": "code",
   "execution_count": 1,
   "source": [
    "import pandas as pd\r\n",
    "import numpy as np"
   ],
   "outputs": [],
   "metadata": {
    "collapsed": true
   }
  },
  {
   "cell_type": "code",
   "execution_count": null,
   "source": [
    "# data = {'國家': ,\r\n",
    "#         '人口': }\r\n",
    "# data = pd.DataFrame()"
   ],
   "outputs": [],
   "metadata": {
    "collapsed": true
   }
  },
  {
   "cell_type": "code",
   "execution_count": null,
   "source": [
    "import numpy as np\r\n",
    "import random\r\n",
    "\r\n",
    "country_population= []\r\n",
    "country = []\r\n",
    "countryLabel = [] #以代號表示國家名稱\r\n",
    "\r\n",
    "people_set=[]\r\n",
    "people_count = [] \r\n",
    "\r\n",
    "\r\n",
    "for i in range(10) :\r\n",
    "    country_label=random.randrange(20)\r\n",
    "    countryLabel.append(str(country_label))    \r\n",
    "\r\n",
    "    peopleNum=random.randrange(20)\r\n",
    "    people_count.append(peopleNum)\r\n",
    "    \r\n",
    "print(countryLabel)\r\n",
    "print(people_count)\r\n",
    "\r\n",
    "country.append('國家')\r\n",
    "country.append(tuple(countryLabel))\r\n",
    "\r\n",
    "people_set.append('人口')\r\n",
    "people_set.append(tuple(people_count))\r\n",
    "\r\n",
    "country_population.append(country)\r\n",
    "country_population.append(people_set)\r\n",
    "print(country_population)"
   ],
   "outputs": [],
   "metadata": {
    "collapsed": true
   }
  },
  {
   "cell_type": "code",
   "execution_count": null,
   "source": [
    "data = pd.DataFrame(dict(country_population))\r\n",
    "data"
   ],
   "outputs": [],
   "metadata": {}
  },
  {
   "cell_type": "code",
   "execution_count": null,
   "source": [
    "data.groupby(by=\"國家\")['人口'].sum().max()"
   ],
   "outputs": [],
   "metadata": {}
  }
 ],
 "metadata": {
  "kernelspec": {
   "display_name": "Python 3",
   "language": "python",
   "name": "python3"
  },
  "language_info": {
   "codemirror_mode": {
    "name": "ipython",
    "version": 3
   },
   "file_extension": ".py",
   "mimetype": "text/x-python",
   "name": "python",
   "nbconvert_exporter": "python",
   "pygments_lexer": "ipython3",
   "version": "3.6.1"
  }
 },
 "nbformat": 4,
 "nbformat_minor": 2
}